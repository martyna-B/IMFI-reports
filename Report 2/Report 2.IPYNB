{
 "cells": [
  {
   "cell_type": "code",
   "execution_count": 2,
   "metadata": {},
   "outputs": [],
   "source": [
    "import numpy as np\n",
    "import matplotlib.pyplot as plt\n",
    "import scipy.stats as ss\n",
    "import seaborn as sns\n",
    "sns.set_style(\"darkgrid\")"
   ]
  },
  {
   "cell_type": "code",
   "execution_count": 105,
   "metadata": {},
   "outputs": [
    {
     "data": {
      "text/plain": [
       "[<matplotlib.lines.Line2D at 0x24350594ac0>]"
      ]
     },
     "execution_count": 105,
     "metadata": {},
     "output_type": "execute_result"
    },
    {
     "data": {
      "image/png": "[encoded data removed]",
      "text/plain": [
       "<Figure size 432x288 with 1 Axes>"
      ]
     },
     "metadata": {},
     "output_type": "display_data"
    }
   ],
   "source": [
    "x_arr = np.arange(0, 15, step=0.001)\n",
    "plt.plot(x_arr, ss.triang.pdf(x_arr, 0, loc=0, scale=10)) #scale = b-a, loc=a, c=procent"
   ]
  },
  {
   "cell_type": "code",
   "execution_count": 49,
   "metadata": {},
   "outputs": [],
   "source": [
    "class PoissonProcess():\n",
    "    \n",
    "    def __init__(self, t, T, lbd):\n",
    "        \n",
    "        self.t = t\n",
    "        self.T = T\n",
    "        self.N = int(T/t)\n",
    "        self.lbd = lbd\n",
    "        poisson_rvs = ss.poisson.rvs(lbd*self.t, size=self.N)\n",
    "        self.increments = poisson_rvs\n",
    "        self.trajectory = np.concatenate([np.zeros(1), np.cumsum(poisson_rvs)])\n",
    "        \n",
    "    def plot(self):\n",
    "        \n",
    "        plt.plot(np.arange(0, self.T+self.t, step=self.t), self.trajectory)\n",
    "        plt.ylabel(\"$N_t$\")\n",
    "        plt.xlabel(\"t\")\n",
    "        plt.title(f'Poisson process with $\\delta t = {self.t}$, $T = {self.T}$ and $\\lambda = {self.lbd}$')\n",
    "        plt.show()\n",
    "        \n",
    "    def EN(self):\n",
    "        return np.mean(self.trajectory)\n",
    "    \n",
    "    def VarN(self):\n",
    "        return np.var(self.trajectory)\n",
    "    \n",
    "    def ENt(self):\n",
    "        return [np.mean(self.trajectory[:i]) for i in np.arange(1, self.N + 1)]\n",
    "    \n",
    "    def VarNt(self):\n",
    "        return [np.var(self.trajectory[:i]) for i in np.arange(1, self.N + 1)]\n",
    "    \n",
    "\n",
    "def generate_pareto(lbd, alpha, num):\n",
    "    uni_rand = ss.uniform.rvs(size=num)\n",
    "    return lbd/((1-uni_rand)**(1/alpha)) - lbd\n",
    "        \n",
    "class CompoundPoisson():\n",
    "    \n",
    "    def __init__(self, poisson_process, distribution, parameters):\n",
    "        \n",
    "        self.t = poisson_process.t\n",
    "        self.T = poisson_process.T\n",
    "        self.N = poisson_process.N\n",
    "        self.poisson_trajectory = poisson_process.trajectory\n",
    "        \n",
    "        if distribution == \"exp\":\n",
    "            self.X = ss.expon.rvs(scale=parameters[\"lmbd\"], size=int(self.poisson_trajectory[-1]))\n",
    "            self.exp_X = parameters[\"lmbd\"]\n",
    "        elif distribution == \"pareto\":\n",
    "            self.X = ss.lomax.rvs(c=parameters[\"alpha\"], scale=parameters[\"lmbd\"], num=int(self.poisson_trajectory[-1]))\n",
    "            self.exp_X = parameters[\"lmbd\"]/(parameters[\"alpha\"] - 1)\n",
    "        elif distribution == \"uniform\":\n",
    "            self.X = ss.uniform.rvs(parameters[\"a\"], parameters[\"b\"], size=int(self.poisson_trajectory[-1]))\n",
    "            self.exp_X = (parameters[\"a\"] + parameters[\"b\"])/2\n",
    "        elif distribution == \"mixed\":\n",
    "            choices = np.random.choice([1, 2], size=int(self.poisson_trajectory[-1]), p=[parameters[\"p\"], 1 - parameters[\"p\"]])\n",
    "            self.X = np.where(choices == 1, ss.expon.rvs(scale=parameters[\"lmbd_1\"], size=int(self.poisson_trajectory[-1])), ss.expon.rvs(scale=parameters[\"lmbd_2\"], size=int(self.poisson_trajectory[-1])))\n",
    "            self.exp_X = parameters[\"p\"]*parameters[\"lmbd_1\"] + parameters[\"p\"]*parameters[\"lmbd_2\"]\n",
    "        \n",
    "        self.trajectory = [np.sum(self.X[:int(n)]) for n in self.poisson_trajectory]\n",
    "        self.exp_N = poisson_process.lbd\n",
    "        \n",
    "    def plot(self):\n",
    "        \n",
    "        plt.plot(np.arange(0, self.T + self.t, step=self.t), self.trajectory)    \n",
    "\n",
    "#theta = 0.1        \n",
    "class RuinProcess():\n",
    "    \n",
    "    def __init__(self, X_distribution, X_parameters, theta=0.1, poisson_lbd=10, delta_t=0.01, T=10):\n",
    "        \n",
    "        self.X_distribution = X_distribution\n",
    "        self.X_parameters = X_parameters\n",
    "        \n",
    "        self.poisson_lbd = poisson_lbd\n",
    "        self.delta_t = delta_t\n",
    "        self.T = T\n",
    "        \n",
    "        self.theta = theta\n",
    "        \n",
    "        \n",
    "    def simulate(self, u0=0):\n",
    "        \n",
    "        compound_poisson = CompoundPoisson(PoissonProcess(self.delta_t, self.T, self.poisson_lbd), self.X_distribution, self.X_parameters)\n",
    "        \n",
    "        self.ruin_process_time_series = u0 + (1+ self.theta)*compound_poisson.exp_X*self.poisson_lbd*np.arange(0, self.T + self.delta_t, step=self.delta_t) - compound_poisson.trajectory\n",
    "     \n",
    "        \n",
    "    def MC_simulate(self, steps, T_arr):\n",
    "        \n",
    "        self.mcs = steps\n",
    "                \n",
    "        for T in T_arr:\n",
    "            if T > self.T:\n",
    "                raise ValueError(f'{T} is bigger than {self.T}')\n",
    "                \n",
    "        min_vals_vec = np.zeros((len(T_arr), steps))\n",
    "        \n",
    "        \n",
    "        for mcs in np.arange(steps):\n",
    "            self.simulate(u0=0)\n",
    "            for i, T in enumerate(T_arr):\n",
    "                min_vals_vec[(i, mcs)] = np.min(self.ruin_process_time_series[:int(T/self.delta_t)])\n",
    "                \n",
    "        self.T_arr = T_arr\n",
    "        self.min_vals_vec = min_vals_vec\n",
    "        \n",
    "     \n",
    "    def MC_ruin_probability(self, u_vec = np.arange(0, 100), plot=True):\n",
    "        \n",
    "        self.ruin_probability_MC = {}\n",
    "        self.u_vec = u_vec\n",
    "        \n",
    "        for i, T in enumerate(self.T_arr):\n",
    "            self.ruin_probability_MC[T] = np.zeros(len(u_vec))\n",
    "            for j, u in enumerate(u_vec):\n",
    "                min_vals_u_vec = self.min_vals_vec[i] + u\n",
    "                self.ruin_probability_MC[T][j] = np.sum(min_vals_u_vec < 0)/self.mcs\n",
    "        \n",
    "        if plot:  \n",
    "            for T in self.T_arr:      \n",
    "                plt.plot(u_vec, self.ruin_probability_MC[T], label=f'T={T}')\n",
    "            plt.legend()\n",
    "            plt.xlabel(\"$u_0$\")\n",
    "            plt.ylabel(\"Probability of ruin\")\n",
    "                      \n",
    "    def PC_simulate(self, steps):\n",
    "        \n",
    "        self.PC_steps = steps\n",
    "        \n",
    "        N_vec = np.zeros(steps)\n",
    "        \n",
    "        for step in np.arange(steps):\n",
    "            num_of_aggregate_losses = ss.geom.rvs(p=(self.theta/(1+self.theta))) - 1\n",
    "            \n",
    "            if self.X_distribution == \"pareto\":\n",
    "                N_vec[step] = np.sum(ss.lomax.rvs(scale=self.X_parameters[\"lmbd\"], c=self.X_parameters[\"alpha\"]-1, num=int(num_of_aggregate_losses)))\n",
    "            \n",
    "            elif self.X_distribution == \"exp\":\n",
    "                N_vec[step] = np.sum(ss.expon.rvs(scale=self.X_parameters[\"lmbd\"], size=int(num_of_aggregate_losses)))\n",
    "                \n",
    "            elif self.X_distribution == \"uniform\":\n",
    "                N_vec[step] = np.sum(ss.triang.rvs(self.X_parameters[\"a\"], loc=0, scale=self.X_parameters[\"b\"], size=int(num_of_aggregate_losses)))\n",
    "                \n",
    "            elif self.X_distribution == \"mixed\":\n",
    "                old_p = self.X_parameters[\"p\"]\n",
    "                lmbd_1 = self.X_parameters[\"lmbd_1\"]\n",
    "                lmbd_2 = self.X_parameters[\"lmbd_2\"]\n",
    "                \n",
    "                new_p = (old_p*lmbd_2)/(old_p*lmbd_2 + (1-old_p)*lmbd_1)\n",
    "                \n",
    "                choices = np.random.choice([1, 2], size=int(num_of_aggregate_losses), p=[new_p, 1 - new_p])\n",
    "                N_vec[step] = np.sum(np.where(choices == 1, ss.expon.rvs(scale=lmbd_1, size=int(num_of_aggregate_losses)), ss.expon.rvs(scale=lmbd_2, size=int(num_of_aggregate_losses))))\n",
    "                \n",
    "        \n",
    "        self.N_vec = N_vec\n",
    "        \n",
    "    def PC_ruin_probability(self, u_vec = np.arange(0, 100), plot=True):\n",
    "        \n",
    "        self.ruin_probability_PC = np.zeros(len(u_vec))\n",
    "        self.u_vec = u_vec\n",
    "        \n",
    "        for j, u in enumerate(u_vec):\n",
    "            self.ruin_probability_PC[j] = np.sum(self.N_vec > u)/self.PC_steps\n",
    "        \n",
    "           \n",
    "        plt.plot(u_vec, self.ruin_probability_PC)\n",
    "        plt.legend()\n",
    "        plt.xlabel(\"$u_0$\")\n",
    "        plt.ylabel(\"Probability of ruin\")\n",
    "        \n",
    "        \n",
    "    def Vylder_simulate(self):\n",
    "        \n",
    "        if self.X_distribution == \"exp\":\n",
    "            p1 = ss.expon.moment(1, scale=self.X_parameters[\"lmbd\"])\n",
    "            p2 = ss.expon.moment(2, scale=self.X_parameters[\"lmbd\"])\n",
    "            p3 = ss.expon.moment(3, scale=self.X_parameters[\"lmbd\"])\n",
    "            \n",
    "        elif self.X_distribution == \"uniform\":\n",
    "            p1 = ss.uniform.moment(1, loc=self.X_parameters[\"a\"], scale=self.X_parameters[\"b\"])\n",
    "            p2 = ss.uniform.moment(2, loc=self.X_parameters[\"a\"], scale=self.X_parameters[\"b\"])\n",
    "            p3 = ss.uniform.moment(3, loc=self.X_parameters[\"a\"], scale=self.X_parameters[\"b\"]) \n",
    "            \n",
    "        elif self.X_distribution == \"mixed\":\n",
    "            p1 = self.X_parameters[\"p\"]*ss.expon.moment(1, scale=\"lmbd_1\") + (1-self.X_parameters[\"p\"])*ss.expon.moment(1, scale=\"lmbd_2\")\n",
    "            p2 = self.X_parameters[\"p\"]*ss.expon.moment(2, scale=\"lmbd_1\") + (1-self.X_parameters[\"p\"])*ss.expon.moment(2, scale=\"lmbd_2\")\n",
    "            p3 = self.X_parameters[\"p\"]*ss.expon.moment(3, scale=\"lmbd_1\") + (1-self.X_parameters[\"p\"])*ss.expon.moment(3, scale=\"lmbd_2\")\n",
    "            \n",
    "            #p1 = self.X_parameters[\"p\"]*self.X_parameters[\"lmbd_1\"] + (1-self.X_parameters[\"p\"])/self.X_parameters[\"lmbd_2\"]\n",
    "            #p2 = 2*self.X_parameters[\"p\"]/self.X_parameters[\"lmbd_1\"]**2 + 2*(1-self.X_parameters[\"p\"])/self.X_parameters[\"lmbd_2\"]**2\n",
    "            #p3 = 6*self.X_parameters[\"p\"]/self.X_parameters[\"lmbd_1\"]**3 + 6*(1-self.X_parameters[\"p\"])/self.X_parameters[\"lmbd_2\"]**3\n",
    "        \n",
    "        elif self.X_distribution == \"pareto\":\n",
    "            p1 = ss.lomax.moment(1, scale=self.X_parameters[\"lmbd\"], c=self.X_parameters[\"alpha\"]-1)\n",
    "            p2 = ss.lomax.moment(1, scale=self.X_parameters[\"lmbd\"], c=self.X_parameters[\"alpha\"]-1)\n",
    "            p3 = ss.lomax.moment(1, scale=self.X_parameters[\"lmbd\"], c=self.X_parameters[\"alpha\"]-1)\n",
    "            \n",
    "            \n",
    "        self.lmbd_de_Vylder = 3*p2/p3\n",
    "        self.theta_de_Vylder = ((2*p1*p3)/(3*p2**2))*self.theta\n",
    "        \n",
    "    def Vylder_ruin_probability(self, u_vec = np.arange(0, 100), plot=True):\n",
    "        \n",
    "        self.ruin_probability_V = (1/(1+self.theta_de_Vylder))*np.exp(-(self.lmbd_de_Vylder*self.theta_de_Vylder*u_vec)/(1 + self.theta_de_Vylder))\n",
    "        \n",
    "        plt.plot(u_vec, self.ruin_probability_V)\n",
    "        plt.xlabel(\"$u_0$\")\n",
    "        plt.ylabel(\"Probability of ruin\")\n",
    "        \n",
    "    \n",
    "    \n",
    "def MC_simulate(steps, T_arr):\n",
    "    pass\n",
    "        \n",
    "\n",
    "\n",
    "            \n",
    "        \n",
    "        \n",
    "              \n",
    "    "
   ]
  },
  {
   "cell_type": "code",
   "execution_count": null,
   "metadata": {},
   "outputs": [],
   "source": []
  },
  {
   "cell_type": "code",
   "execution_count": 4,
   "metadata": {},
   "outputs": [
    {
     "data": {
      "text/plain": [
       "3.0"
      ]
     },
     "execution_count": 4,
     "metadata": {},
     "output_type": "execute_result"
    }
   ],
   "source": [
    "ss.expon.moment(1, scale=3)"
   ]
  },
  {
   "cell_type": "code",
   "execution_count": 50,
   "metadata": {},
   "outputs": [],
   "source": [
    "rp = RuinProcess(\"mixed\", {\"p\":0.4, \"lmbd_1\":1, \"lmbd_2\":2}, poisson_lbd=1, T=100)"
   ]
  },
  {
   "cell_type": "code",
   "execution_count": 46,
   "metadata": {},
   "outputs": [],
   "source": [
    "rp = RuinProcess(\"exp\", {\"lmbd\":2}, poisson_lbd=1, T=100)"
   ]
  },
  {
   "cell_type": "code",
   "execution_count": 27,
   "metadata": {},
   "outputs": [],
   "source": [
    "rp = RuinProcess(\"uniform\", {\"a\":0, \"b\":10},poisson_lbd=1, T=100)"
   ]
  },
  {
   "cell_type": "code",
   "execution_count": 51,
   "metadata": {},
   "outputs": [],
   "source": [
    "rp.MC_simulate(steps=1000, T_arr=(1,2, 3, 4, 5, 10, 100))"
   ]
  },
  {
   "cell_type": "code",
   "execution_count": 52,
   "metadata": {},
   "outputs": [
    {
     "data": {
      "image/png": "[encoded data removed]",
      "text/plain": [
       "<Figure size 432x288 with 1 Axes>"
      ]
     },
     "metadata": {},
     "output_type": "display_data"
    }
   ],
   "source": [
    "rp.MC_ruin_probability()"
   ]
  },
  {
   "cell_type": "code",
   "execution_count": 53,
   "metadata": {},
   "outputs": [],
   "source": [
    "rp.PC_simulate(steps=10000)"
   ]
  },
  {
   "cell_type": "code",
   "execution_count": 54,
   "metadata": {},
   "outputs": [
    {
     "name": "stderr",
     "output_type": "stream",
     "text": [
      "No artists with labels found to put in legend.  Note that artists whose label start with an underscore are ignored when legend() is called with no argument.\n"
     ]
    },
    {
     "data": {
      "image/png": "[encoded data removed]",
      "text/plain": [
       "<Figure size 432x288 with 1 Axes>"
      ]
     },
     "metadata": {},
     "output_type": "display_data"
    }
   ],
   "source": [
    "rp.PC_ruin_probability()"
   ]
  },
  {
   "cell_type": "code",
   "execution_count": 55,
   "metadata": {},
   "outputs": [
    {
     "ename": "TypeError",
     "evalue": "'>' not supported between instances of 'str' and 'int'",
     "output_type": "error",
     "traceback": [
      "\u001b[1;31m---------------------------------------------------------------------------\u001b[0m",
      "\u001b[1;31mTypeError\u001b[0m                                 Traceback (most recent call last)",
      "\u001b[1;32m~\\AppData\\Local\\Temp/ipykernel_26900/1908689173.py\u001b[0m in \u001b[0;36m<module>\u001b[1;34m\u001b[0m\n\u001b[1;32m----> 1\u001b[1;33m \u001b[0mrp\u001b[0m\u001b[1;33m.\u001b[0m\u001b[0mVylder_simulate\u001b[0m\u001b[1;33m(\u001b[0m\u001b[1;33m)\u001b[0m\u001b[1;33m\u001b[0m\u001b[1;33m\u001b[0m\u001b[0m\n\u001b[0m",
      "\u001b[1;32m~\\AppData\\Local\\Temp/ipykernel_26900/880451302.py\u001b[0m in \u001b[0;36mVylder_simulate\u001b[1;34m(self)\u001b[0m\n\u001b[0;32m    185\u001b[0m \u001b[1;33m\u001b[0m\u001b[0m\n\u001b[0;32m    186\u001b[0m         \u001b[1;32melif\u001b[0m \u001b[0mself\u001b[0m\u001b[1;33m.\u001b[0m\u001b[0mX_distribution\u001b[0m \u001b[1;33m==\u001b[0m \u001b[1;34m\"mixed\"\u001b[0m\u001b[1;33m:\u001b[0m\u001b[1;33m\u001b[0m\u001b[1;33m\u001b[0m\u001b[0m\n\u001b[1;32m--> 187\u001b[1;33m             \u001b[0mp1\u001b[0m \u001b[1;33m=\u001b[0m \u001b[0mself\u001b[0m\u001b[1;33m.\u001b[0m\u001b[0mX_parameters\u001b[0m\u001b[1;33m[\u001b[0m\u001b[1;34m\"p\"\u001b[0m\u001b[1;33m]\u001b[0m\u001b[1;33m*\u001b[0m\u001b[0mss\u001b[0m\u001b[1;33m.\u001b[0m\u001b[0mexpon\u001b[0m\u001b[1;33m.\u001b[0m\u001b[0mmoment\u001b[0m\u001b[1;33m(\u001b[0m\u001b[1;36m1\u001b[0m\u001b[1;33m,\u001b[0m \u001b[0mscale\u001b[0m\u001b[1;33m=\u001b[0m\u001b[1;34m\"lmbd_1\"\u001b[0m\u001b[1;33m)\u001b[0m \u001b[1;33m+\u001b[0m \u001b[1;33m(\u001b[0m\u001b[1;36m1\u001b[0m\u001b[1;33m-\u001b[0m\u001b[0mself\u001b[0m\u001b[1;33m.\u001b[0m\u001b[0mX_parameters\u001b[0m\u001b[1;33m[\u001b[0m\u001b[1;34m\"p\"\u001b[0m\u001b[1;33m]\u001b[0m\u001b[1;33m)\u001b[0m\u001b[1;33m*\u001b[0m\u001b[0mss\u001b[0m\u001b[1;33m.\u001b[0m\u001b[0mexpon\u001b[0m\u001b[1;33m.\u001b[0m\u001b[0mmoment\u001b[0m\u001b[1;33m(\u001b[0m\u001b[1;36m1\u001b[0m\u001b[1;33m,\u001b[0m \u001b[0mscale\u001b[0m\u001b[1;33m=\u001b[0m\u001b[1;34m\"lmbd_2\"\u001b[0m\u001b[1;33m)\u001b[0m\u001b[1;33m\u001b[0m\u001b[1;33m\u001b[0m\u001b[0m\n\u001b[0m\u001b[0;32m    188\u001b[0m             \u001b[0mp2\u001b[0m \u001b[1;33m=\u001b[0m \u001b[0mself\u001b[0m\u001b[1;33m.\u001b[0m\u001b[0mX_parameters\u001b[0m\u001b[1;33m[\u001b[0m\u001b[1;34m\"p\"\u001b[0m\u001b[1;33m]\u001b[0m\u001b[1;33m*\u001b[0m\u001b[0mss\u001b[0m\u001b[1;33m.\u001b[0m\u001b[0mexpon\u001b[0m\u001b[1;33m.\u001b[0m\u001b[0mmoment\u001b[0m\u001b[1;33m(\u001b[0m\u001b[1;36m2\u001b[0m\u001b[1;33m,\u001b[0m \u001b[0mscale\u001b[0m\u001b[1;33m=\u001b[0m\u001b[1;34m\"lmbd_1\"\u001b[0m\u001b[1;33m)\u001b[0m \u001b[1;33m+\u001b[0m \u001b[1;33m(\u001b[0m\u001b[1;36m1\u001b[0m\u001b[1;33m-\u001b[0m\u001b[0mself\u001b[0m\u001b[1;33m.\u001b[0m\u001b[0mX_parameters\u001b[0m\u001b[1;33m[\u001b[0m\u001b[1;34m\"p\"\u001b[0m\u001b[1;33m]\u001b[0m\u001b[1;33m)\u001b[0m\u001b[1;33m*\u001b[0m\u001b[0mss\u001b[0m\u001b[1;33m.\u001b[0m\u001b[0mexpon\u001b[0m\u001b[1;33m.\u001b[0m\u001b[0mmoment\u001b[0m\u001b[1;33m(\u001b[0m\u001b[1;36m2\u001b[0m\u001b[1;33m,\u001b[0m \u001b[0mscale\u001b[0m\u001b[1;33m=\u001b[0m\u001b[1;34m\"lmbd_2\"\u001b[0m\u001b[1;33m)\u001b[0m\u001b[1;33m\u001b[0m\u001b[1;33m\u001b[0m\u001b[0m\n\u001b[0;32m    189\u001b[0m             \u001b[0mp3\u001b[0m \u001b[1;33m=\u001b[0m \u001b[0mself\u001b[0m\u001b[1;33m.\u001b[0m\u001b[0mX_parameters\u001b[0m\u001b[1;33m[\u001b[0m\u001b[1;34m\"p\"\u001b[0m\u001b[1;33m]\u001b[0m\u001b[1;33m*\u001b[0m\u001b[0mss\u001b[0m\u001b[1;33m.\u001b[0m\u001b[0mexpon\u001b[0m\u001b[1;33m.\u001b[0m\u001b[0mmoment\u001b[0m\u001b[1;33m(\u001b[0m\u001b[1;36m3\u001b[0m\u001b[1;33m,\u001b[0m \u001b[0mscale\u001b[0m\u001b[1;33m=\u001b[0m\u001b[1;34m\"lmbd_1\"\u001b[0m\u001b[1;33m)\u001b[0m \u001b[1;33m+\u001b[0m \u001b[1;33m(\u001b[0m\u001b[1;36m1\u001b[0m\u001b[1;33m-\u001b[0m\u001b[0mself\u001b[0m\u001b[1;33m.\u001b[0m\u001b[0mX_parameters\u001b[0m\u001b[1;33m[\u001b[0m\u001b[1;34m\"p\"\u001b[0m\u001b[1;33m]\u001b[0m\u001b[1;33m)\u001b[0m\u001b[1;33m*\u001b[0m\u001b[0mss\u001b[0m\u001b[1;33m.\u001b[0m\u001b[0mexpon\u001b[0m\u001b[1;33m.\u001b[0m\u001b[0mmoment\u001b[0m\u001b[1;33m(\u001b[0m\u001b[1;36m3\u001b[0m\u001b[1;33m,\u001b[0m \u001b[0mscale\u001b[0m\u001b[1;33m=\u001b[0m\u001b[1;34m\"lmbd_2\"\u001b[0m\u001b[1;33m)\u001b[0m\u001b[1;33m\u001b[0m\u001b[1;33m\u001b[0m\u001b[0m\n",
      "\u001b[1;32mc:\\Users\\Martyna\\AppData\\Local\\Programs\\Python\\Python310\\lib\\site-packages\\scipy\\stats\\_distn_infrastructure.py\u001b[0m in \u001b[0;36mmoment\u001b[1;34m(self, n, *args, **kwds)\u001b[0m\n\u001b[0;32m   1272\u001b[0m         \"\"\"\n\u001b[0;32m   1273\u001b[0m         \u001b[0margs\u001b[0m\u001b[1;33m,\u001b[0m \u001b[0mloc\u001b[0m\u001b[1;33m,\u001b[0m \u001b[0mscale\u001b[0m \u001b[1;33m=\u001b[0m \u001b[0mself\u001b[0m\u001b[1;33m.\u001b[0m\u001b[0m_parse_args\u001b[0m\u001b[1;33m(\u001b[0m\u001b[1;33m*\u001b[0m\u001b[0margs\u001b[0m\u001b[1;33m,\u001b[0m \u001b[1;33m**\u001b[0m\u001b[0mkwds\u001b[0m\u001b[1;33m)\u001b[0m\u001b[1;33m\u001b[0m\u001b[1;33m\u001b[0m\u001b[0m\n\u001b[1;32m-> 1274\u001b[1;33m         \u001b[1;32mif\u001b[0m \u001b[1;32mnot\u001b[0m \u001b[1;33m(\u001b[0m\u001b[0mself\u001b[0m\u001b[1;33m.\u001b[0m\u001b[0m_argcheck\u001b[0m\u001b[1;33m(\u001b[0m\u001b[1;33m*\u001b[0m\u001b[0margs\u001b[0m\u001b[1;33m)\u001b[0m \u001b[1;32mand\u001b[0m \u001b[1;33m(\u001b[0m\u001b[0mscale\u001b[0m \u001b[1;33m>\u001b[0m \u001b[1;36m0\u001b[0m\u001b[1;33m)\u001b[0m\u001b[1;33m)\u001b[0m\u001b[1;33m:\u001b[0m\u001b[1;33m\u001b[0m\u001b[1;33m\u001b[0m\u001b[0m\n\u001b[0m\u001b[0;32m   1275\u001b[0m             \u001b[1;32mreturn\u001b[0m \u001b[0mnan\u001b[0m\u001b[1;33m\u001b[0m\u001b[1;33m\u001b[0m\u001b[0m\n\u001b[0;32m   1276\u001b[0m         \u001b[1;32mif\u001b[0m \u001b[1;33m(\u001b[0m\u001b[0mfloor\u001b[0m\u001b[1;33m(\u001b[0m\u001b[0mn\u001b[0m\u001b[1;33m)\u001b[0m \u001b[1;33m!=\u001b[0m \u001b[0mn\u001b[0m\u001b[1;33m)\u001b[0m\u001b[1;33m:\u001b[0m\u001b[1;33m\u001b[0m\u001b[1;33m\u001b[0m\u001b[0m\n",
      "\u001b[1;31mTypeError\u001b[0m: '>' not supported between instances of 'str' and 'int'"
     ]
    }
   ],
   "source": [
    "rp.Vylder_simulate()"
   ]
  },
  {
   "cell_type": "code",
   "execution_count": 33,
   "metadata": {},
   "outputs": [
    {
     "data": {
      "image/png": "[encoded data removed]",
      "text/plain": [
       "<Figure size 432x288 with 1 Axes>"
      ]
     },
     "metadata": {},
     "output_type": "display_data"
    }
   ],
   "source": [
    "rp.Vylder_ruin_probability()"
   ]
  },
  {
   "cell_type": "code",
   "execution_count": 5,
   "metadata": {},
   "outputs": [
    {
     "ename": "TypeError",
     "evalue": "CompoundPoisson.__init__() missing 1 required positional argument: 'parameters'",
     "output_type": "error",
     "traceback": [
      "\u001b[1;31m---------------------------------------------------------------------------\u001b[0m",
      "\u001b[1;31mTypeError\u001b[0m                                 Traceback (most recent call last)",
      "\u001b[1;32m~\\AppData\\Local\\Temp/ipykernel_10604/1360062508.py\u001b[0m in \u001b[0;36m<module>\u001b[1;34m\u001b[0m\n\u001b[1;32m----> 1\u001b[1;33m \u001b[0mcp\u001b[0m \u001b[1;33m=\u001b[0m \u001b[0mCompoundPoisson\u001b[0m\u001b[1;33m(\u001b[0m\u001b[0mPoissonProcess\u001b[0m\u001b[1;33m(\u001b[0m\u001b[0mt\u001b[0m\u001b[1;33m=\u001b[0m\u001b[1;36m0.01\u001b[0m\u001b[1;33m,\u001b[0m \u001b[0mT\u001b[0m\u001b[1;33m=\u001b[0m\u001b[1;36m10\u001b[0m\u001b[1;33m,\u001b[0m \u001b[0mlbd\u001b[0m\u001b[1;33m=\u001b[0m\u001b[1;36m10\u001b[0m\u001b[1;33m)\u001b[0m\u001b[1;33m,\u001b[0m \u001b[1;36m10\u001b[0m\u001b[1;33m)\u001b[0m\u001b[1;33m\u001b[0m\u001b[1;33m\u001b[0m\u001b[0m\n\u001b[0m",
      "\u001b[1;31mTypeError\u001b[0m: CompoundPoisson.__init__() missing 1 required positional argument: 'parameters'"
     ]
    }
   ],
   "source": [
    "cp = CompoundPoisson(PoissonProcess(t=0.01, T=10, lbd=10), 10)"
   ]
  },
  {
   "cell_type": "code",
   "execution_count": 4,
   "metadata": {},
   "outputs": [
    {
     "data": {
      "text/plain": [
       "[<matplotlib.lines.Line2D at 0x13827d3c1c0>]"
      ]
     },
     "execution_count": 4,
     "metadata": {},
     "output_type": "execute_result"
    },
    {
     "data": {
      "image/png": "[encoded data removed]",
      "text/plain": [
       "<Figure size 432x288 with 1 Axes>"
      ]
     },
     "metadata": {},
     "output_type": "display_data"
    }
   ],
   "source": [
    "cp.plot()\n",
    "c = 100\n",
    "t_vec = np.arange(0, 10.01, step=0.01)\n",
    "plt.plot(t_vec, 500 + c*t_vec - np.array(cp.trajectory))\n",
    "plt.plot(t_vec, 500 + c*t_vec)"
   ]
  },
  {
   "cell_type": "code",
   "execution_count": 51,
   "metadata": {},
   "outputs": [],
   "source": [
    "monte_carlo_steps = 1000\n",
    "min_vals_vec = np.zeros(monte_carlo_steps)\n",
    "theta = 0.15\n",
    "poisson_lambda = 1\n",
    "expon_lambda = 1\n",
    "delta_t = 0.01\n",
    "T = 1000    "
   ]
  },
  {
   "cell_type": "code",
   "execution_count": 52,
   "metadata": {},
   "outputs": [],
   "source": [
    "for mcs in np.arange(monte_carlo_steps):\n",
    "    cp = CompoundPoisson(PoissonProcess(t=delta_t, T=T, lbd=poisson_lambda), expon_lambda)\n",
    "    risk_process_trajectory = (theta + 1)*poisson_lambda/expon_lambda * np.arange(0, T + delta_t, step=delta_t) - cp.trajectory\n",
    "    min_vals_vec[mcs] = np.min(risk_process_trajectory)"
   ]
  },
  {
   "cell_type": "code",
   "execution_count": 53,
   "metadata": {},
   "outputs": [],
   "source": [
    "u_max = 40\n",
    "ruin_probability = np.zeros(u_max + 1)\n",
    "for u in np.arange(u_max + 1):\n",
    "    min_vals_u_vec = min_vals_vec + u\n",
    "    ruin_probability[u] = np.sum(min_vals_u_vec < 0)/monte_carlo_steps\n",
    "    "
   ]
  },
  {
   "cell_type": "code",
   "execution_count": 54,
   "metadata": {},
   "outputs": [
    {
     "data": {
      "text/plain": [
       "Text(0.5, 0, '$u$')"
      ]
     },
     "execution_count": 54,
     "metadata": {},
     "output_type": "execute_result"
    },
    {
     "data": {
      "image/png": "[encoded data removed]",
      "text/plain": [
       "<Figure size 432x288 with 1 Axes>"
      ]
     },
     "metadata": {},
     "output_type": "display_data"
    }
   ],
   "source": [
    "plt.plot(np.arange(u_max + 1), ruin_probability, label=\"Simulations\")\n",
    "plt.plot(np.arange(u_max + 1), (1/(1+theta))*np.exp((-expon_lambda*theta*np.arange(u_max + 1))/(1+theta)), label=\"Theory\")\n",
    "plt.legend()\n",
    "plt.ylabel(\"$\\Psi(u)$\")\n",
    "plt.xlabel(\"$u$\")"
   ]
  },
  {
   "cell_type": "code",
   "execution_count": 7,
   "metadata": {},
   "outputs": [],
   "source": [
    "cp = CompoundPoisson(PoissonProcess(t=0.01, T=10, lbd=10), \"pareto\", {\"alpha\":3, \"lmbd\":10})"
   ]
  },
  {
   "cell_type": "code",
   "execution_count": 8,
   "metadata": {},
   "outputs": [
    {
     "data": {
      "image/png": "[encoded data removed]",
      "text/plain": [
       "<Figure size 432x288 with 1 Axes>"
      ]
     },
     "metadata": {},
     "output_type": "display_data"
    }
   ],
   "source": [
    "cp.plot()"
   ]
  },
  {
   "cell_type": "code",
   "execution_count": 39,
   "metadata": {},
   "outputs": [],
   "source": [
    "simulations_num = 1000\n",
    "delta_t = 0.01\n",
    "T = 100\n",
    "poisson_lambda = 3\n",
    "theta = 0.1\n",
    "p = theta/(1+theta)\n",
    "alpha = 3\n",
    "lmbd_par = 5\n",
    "expect_val = lmbd_par/(alpha - 1)\n",
    "min_vals_vec = np.zeros(simulations_num)\n",
    "\n",
    "for sim in np.arange(simulations_num):\n",
    "    cp = CompoundPoisson(PoissonProcess(t=delta_t, T=T, lbd=poisson_lambda), \"pareto\", {\"alpha\":alpha, \"lmbd\":lmbd_par})\n",
    "    risk_process_trajectory = (theta + 1)*expect_val*poisson_lambda*np.arange(0, T + delta_t, step=delta_t) - cp.trajectory\n",
    "    min_vals_vec[sim] = np.min(risk_process_trajectory)"
   ]
  },
  {
   "cell_type": "code",
   "execution_count": null,
   "metadata": {},
   "outputs": [],
   "source": [
    "LOMAX - distribution in scipy"
   ]
  },
  {
   "cell_type": "code",
   "execution_count": 21,
   "metadata": {},
   "outputs": [],
   "source": [
    "u_max = 200\n",
    "ruin_probability = np.zeros(u_max + 1)\n",
    "\n",
    "\n",
    "for u in np.arange(u_max + 1):\n",
    "    min_vals_u_vec = min_vals_vec + u\n",
    "    ruin_probability[(T, u)] = np.sum(min_vals_u_vec < 0)/simulations_num"
   ]
  },
  {
   "cell_type": "code",
   "execution_count": 37,
   "metadata": {},
   "outputs": [
    {
     "data": {
      "text/plain": [
       "array([0.2, 0.2, 0.2, 0.2, 0.2, 0.2, 0.2, 0.2, 0.2, 0.2, 0.2, 0.2, 0.2,\n",
       "       0.2, 0.2, 0.2, 0.2, 0.2, 0.2, 0.2, 0.2, 0.2, 0.2, 0.2, 0.2, 0.2,\n",
       "       0.2, 0.2, 0.2, 0.2, 0.2, 0.2, 0.2, 0.2, 0.2, 0.2, 0.2, 0.2, 0.2,\n",
       "       0.2, 0.2, 0.2, 0.2, 0.2, 0.2, 0.2, 0.2, 0.2, 0.2, 0.2, 0.2, 0.2,\n",
       "       0.2, 0.2, 0.2, 0.2, 0.2, 0.2, 0.2, 0.2, 0.2, 0.2, 0.2, 0.2, 0.2,\n",
       "       0.2, 0.2, 0.2, 0.2, 0.2, 0.2, 0.2, 0.2, 0.2, 0.2, 0.2, 0.2, 0.2,\n",
       "       0.2, 0.2, 0.2, 0.2, 0.2, 0.2, 0.2, 0.2, 0.2, 0.2, 0.2, 0.2, 0.2,\n",
       "       0.2, 0.2, 0.2, 0.2, 0.2, 0.2, 0.2, 0.2, 0.2, 0.2, 0.2, 0.2, 0.2,\n",
       "       0.2, 0.2, 0.2, 0.2, 0.2, 0.2, 0.2, 0.2, 0.2, 0.2, 0.2, 0.2, 0.2,\n",
       "       0.2, 0.2, 0.2, 0.2, 0.2, 0.2, 0.2, 0.2, 0.2, 0.2, 0.2, 0.2, 0.2,\n",
       "       0.2, 0.2, 0.2, 0.2, 0.2, 0.2, 0.2, 0.2, 0.2, 0.2, 0.2, 0.2, 0.2,\n",
       "       0.2, 0.2, 0.2, 0.2, 0.2, 0.2, 0.2, 0.2, 0.2, 0.2, 0.2, 0.2, 0.2,\n",
       "       0.2, 0.2, 0.2, 0.2, 0.2, 0.2, 0.2, 0.2, 0.2, 0.2, 0.2, 0.2, 0.2,\n",
       "       0.2, 0.2, 0.2, 0.2, 0.2, 0.2, 0.2, 0.2, 0.2, 0.2, 0.2, 0.2, 0.2,\n",
       "       0.2, 0.2, 0.2, 0.2, 0.2, 0.2, 0.2, 0.2, 0.2, 0.2, 0.2, 0.2, 0.2,\n",
       "       0.2, 0.2, 0.2, 0.2, 0.2, 0.2])"
      ]
     },
     "execution_count": 37,
     "metadata": {},
     "output_type": "execute_result"
    }
   ],
   "source": [
    "ruin_probability[(3,)]"
   ]
  },
  {
   "cell_type": "code",
   "execution_count": 31,
   "metadata": {},
   "outputs": [
    {
     "data": {
      "text/plain": [
       "array([-223.72853546, -364.89597154, -301.97351164, -152.81377298,\n",
       "       -377.08685056, -517.6877932 , -282.22370098, -506.45592998,\n",
       "       -455.97799059, -372.47806633, -352.45533099, -243.90387106,\n",
       "       -399.72714158, -313.1744256 , -302.99054028, -241.30275697,\n",
       "       -336.4631615 , -377.78276693, -331.7667739 , -257.00868535,\n",
       "       -287.75070791, -221.26022001, -258.43431883, -268.62249139,\n",
       "       -230.70891453, -242.71048853, -303.31406356, -442.37115445,\n",
       "       -277.80808198, -346.46913321, -337.40252816, -205.61392043,\n",
       "       -211.47976914, -360.54037055, -356.61582189, -319.33354682,\n",
       "       -198.89121182, -193.86040059, -318.01975619, -343.07591665,\n",
       "       -179.44128479, -349.97620603, -377.96380019, -339.74506323,\n",
       "       -191.02765345, -375.4498282 , -247.22230437, -267.47873963,\n",
       "       -280.11857158, -157.46545453, -274.91574048, -273.45606141,\n",
       "       -287.12248221, -420.45704521, -289.83506192, -290.87283986,\n",
       "       -155.82675011, -294.8557298 , -185.46675413, -390.76685995,\n",
       "       -214.21985051, -178.42332272, -340.67251088, -283.4549017 ,\n",
       "       -348.84193632, -294.92574815, -183.85090742, -227.28231669,\n",
       "       -170.51969084, -370.15338854, -314.02742492, -281.33215786,\n",
       "       -222.76148067, -175.66607847, -344.42412713, -180.5463841 ,\n",
       "       -278.31534618, -209.29381679, -206.68883845, -266.11428255,\n",
       "       -271.77208845, -182.01705707, -338.81830726, -317.69340059,\n",
       "       -360.87805017, -240.40442007, -411.24980099, -389.2212741 ,\n",
       "       -276.65990584, -269.77382333, -260.02311932, -231.39401723,\n",
       "       -309.06199323, -314.78800627, -189.19472557, -323.42058026,\n",
       "       -264.19645875, -221.01629354, -295.20055051, -225.28788163,\n",
       "       -328.64262783, -313.86980565, -243.76432404, -255.7820741 ,\n",
       "       -230.03036696, -242.22167474, -299.49591765, -444.77382334,\n",
       "       -213.84750383, -418.39063474, -369.87789513, -442.99869654,\n",
       "       -390.94871166, -310.87953488, -254.4723198 , -361.55975685,\n",
       "       -384.61040038, -422.04966288, -349.42170428, -515.83737035,\n",
       "       -367.65793873, -242.68602036, -249.8398133 , -284.7791452 ,\n",
       "       -251.76458369, -324.15079348, -232.92191927, -201.12041237,\n",
       "       -376.74436758, -477.44658676, -293.51175118, -223.79062383,\n",
       "       -234.29848053, -252.69188596, -146.26222236, -531.21126538,\n",
       "       -269.48189785, -197.74444525, -133.01429342, -403.03953398,\n",
       "       -311.14997279, -222.25850511, -241.02042434, -489.36893213,\n",
       "       -133.87041847, -250.00502363, -266.63457656, -377.87811113,\n",
       "       -275.48023437, -573.16774923, -244.69790002, -313.08037952,\n",
       "       -195.11909321, -112.114222  , -390.84873562, -197.14936853,\n",
       "       -339.05350364, -516.6062215 , -249.98773156, -301.11599236,\n",
       "       -301.02054864, -340.47248413, -227.2317724 , -293.76882106,\n",
       "       -324.40438268, -240.85965845, -240.2572737 , -207.25285897,\n",
       "       -125.54179393, -319.13506117, -357.52327742, -494.40279817,\n",
       "       -278.16954139, -211.12303566, -317.61070111, -235.75756622,\n",
       "       -376.38858778, -351.96310891, -237.45950838, -467.86891794,\n",
       "       -489.16330504, -311.49468424, -184.29013593, -223.43781203,\n",
       "       -235.03412894, -361.43829755, -197.51067723, -133.87966838,\n",
       "       -266.18193492, -389.65184729, -372.79102171, -199.48225224,\n",
       "       -146.56082111, -352.06104359, -385.20967139, -434.75529805,\n",
       "       -376.89065187, -338.51426779, -240.97436454, -407.41874118,\n",
       "       -226.83080103, -308.69454416, -228.05724084, -293.97507427,\n",
       "       -346.48576289, -192.78381472, -271.90496961, -474.98597777,\n",
       "       -493.46257544, -280.85264845, -287.70052281, -332.62564484,\n",
       "       -415.60205071, -314.18047001, -428.08287635, -383.40341085,\n",
       "       -333.00009617, -269.11854454, -506.96723595, -392.2399915 ,\n",
       "       -313.64040274, -256.36315293, -408.2104491 , -221.02909473,\n",
       "       -416.18430925, -235.71786358, -357.88736349, -288.39389522,\n",
       "       -230.04754074, -354.75617454, -419.44028113, -393.54956766,\n",
       "       -271.26255071, -360.92353163, -469.44578808, -440.73278868,\n",
       "       -244.85067412, -201.07958576, -228.55679552, -300.73425921,\n",
       "       -280.71433528, -338.39524365, -245.04608348, -539.68707209,\n",
       "       -285.13151876, -537.90721353, -438.77333819, -292.97664972,\n",
       "       -344.65721319, -240.91595467, -360.13413982, -322.19462614,\n",
       "       -226.4320778 , -355.7350697 , -313.5256736 , -369.00436276,\n",
       "       -232.12231723, -241.72009969, -173.66712314, -279.66002779,\n",
       "       -195.28424716, -265.89743028, -213.04911915, -278.17114304,\n",
       "       -267.16792461, -312.93241658, -360.50115472, -308.41362509,\n",
       "       -512.90410364, -222.01661691, -159.1575336 , -217.80424167,\n",
       "       -272.29598106, -214.21855869, -341.82962718, -362.93337479,\n",
       "       -152.21275338, -278.7321985 , -390.793319  , -492.23632737,\n",
       "       -554.51610763, -277.49673248, -415.32959195, -443.55388436,\n",
       "       -269.90408869, -283.03827006, -334.03564231, -313.74246487,\n",
       "       -349.53539578, -211.10470212, -283.19052479, -360.6220415 ,\n",
       "       -242.46618638, -253.36769032, -355.08726036, -292.61913123,\n",
       "       -286.53373289, -365.60314142, -340.46216175, -232.16284992,\n",
       "       -224.21496438, -381.71826064, -332.33732939, -349.84046092,\n",
       "       -335.14362004, -273.11969888, -227.98489446, -336.6934305 ,\n",
       "       -235.64625797, -236.60226458, -401.57527983, -151.21025354,\n",
       "       -317.04095996, -237.10672027, -343.74632163, -358.98207537,\n",
       "       -224.98078054, -255.76688557, -211.88085931, -127.14751827,\n",
       "       -239.99129137, -353.7139259 , -328.77918945, -326.64829454,\n",
       "       -390.01209698, -260.32003529, -285.91541128, -258.77545298,\n",
       "       -369.5581411 , -302.02809248, -320.82199456, -151.61476193,\n",
       "       -500.20169907, -293.88784585, -264.14179458, -300.89808789,\n",
       "       -283.67373382, -341.7162027 , -396.59337343, -312.81359414,\n",
       "       -328.77875316, -262.51317463, -192.91439515, -264.28371024,\n",
       "       -261.85679141, -276.3772365 , -417.04325437, -360.66683187,\n",
       "       -314.05459357, -323.62559886, -423.91889119, -455.21050723,\n",
       "       -244.26618036, -321.71789503, -501.35783255, -316.24906218,\n",
       "       -249.7162107 , -383.85615602, -123.25146543, -291.91119416,\n",
       "       -349.89895713, -199.6472455 , -159.17936369, -288.31519289,\n",
       "       -322.49593694, -389.38872546, -374.16587941, -297.55068259,\n",
       "       -250.97715883, -294.61970787, -345.95118817, -469.55400983,\n",
       "       -505.27359225, -356.87993605, -332.11920768, -136.54920639,\n",
       "       -240.88264536, -269.23171959, -270.9056867 , -207.96967486,\n",
       "       -306.53515775, -250.21083969, -173.47831271, -237.36638135,\n",
       "       -330.63681814, -275.35321483, -399.84048895, -310.95555294,\n",
       "       -388.14081557, -254.89975124, -312.31579681, -241.96898501,\n",
       "       -229.66126453, -276.42546564, -380.73048773, -322.64843649,\n",
       "       -208.76392271, -287.04109108, -274.81972804, -346.2058361 ,\n",
       "       -320.32484351, -278.90489745, -232.80131466, -137.19038315,\n",
       "       -317.07816152, -333.43992909, -294.31229753, -270.35810418,\n",
       "       -215.24169194, -162.120292  , -269.74580687, -317.64930933,\n",
       "       -309.61819746, -283.11763321, -310.34035638, -213.64556158,\n",
       "       -298.54273548, -219.32985408, -244.99343506, -326.60593831,\n",
       "       -372.04161347, -278.33237023, -261.63376961, -289.83533627,\n",
       "       -186.564181  , -204.7277426 , -230.47849535, -366.43220146,\n",
       "       -298.84452198, -209.35938426, -302.24777485, -257.5464808 ,\n",
       "       -260.96991532, -398.87048962, -335.46616383, -425.52809841,\n",
       "       -153.93361995, -258.09868465, -130.86283962, -257.51494504,\n",
       "       -260.54063148, -214.99089028, -364.60031989, -377.37884978,\n",
       "       -159.08009955, -362.06252617, -300.10427463, -364.09993063,\n",
       "       -559.28956318, -270.65302025, -301.44927101, -248.69595415,\n",
       "       -456.23350556, -304.28954591, -490.35683485, -334.34521103,\n",
       "       -166.69590551, -320.67423344, -358.54017591, -304.16794051,\n",
       "       -267.52671987, -341.54178906, -280.62213477, -284.18917365,\n",
       "       -284.22236101, -327.10154634, -250.25429698, -296.14430186,\n",
       "       -212.77133441, -309.68121851, -220.23574754, -380.9872406 ,\n",
       "       -275.79208595, -336.11585939, -255.98716672, -178.49066398,\n",
       "       -393.86446318, -308.10622935, -389.31699622, -390.23230521,\n",
       "       -296.89805241, -257.6489167 , -365.75957347, -293.17071579,\n",
       "       -167.77505525, -313.58258422, -324.33798514, -346.10726102,\n",
       "       -357.44445674, -327.30560699, -309.16939773, -348.24301067,\n",
       "       -269.49563638, -261.70945549, -387.69560727, -263.14234188,\n",
       "       -238.71877629, -268.63871575, -309.79938278, -396.28104657,\n",
       "       -187.73177992, -343.26359367, -249.58206532, -265.94059734,\n",
       "       -388.29460239, -322.49409563, -187.31952006, -250.67891391,\n",
       "       -208.17718911, -302.06192634, -236.51041481, -411.78023865,\n",
       "       -205.98199819, -231.3897941 , -345.45615658, -246.39288774,\n",
       "       -212.48814227, -219.77085405, -244.49758603, -426.37333476,\n",
       "       -536.18090379, -323.16799338, -445.73727825, -296.81616181,\n",
       "       -351.42102151, -247.04278686, -337.81506129, -286.56156225,\n",
       "       -254.86905231, -181.57772358, -408.44995257, -191.64364622,\n",
       "       -418.15844256, -417.80134324, -340.87356267, -261.61191548,\n",
       "       -510.98094526, -189.56888878, -259.73758099, -235.39990155,\n",
       "       -498.80252454, -251.0062406 , -396.13565761, -142.94192754,\n",
       "       -281.98770222, -123.36829318, -236.9481427 , -172.64728325,\n",
       "       -298.50216616, -175.48481014, -326.23797466, -186.06670872,\n",
       "       -368.93931608, -404.90054974, -269.11222772, -164.03264324,\n",
       "       -176.47165787, -221.89292935, -230.80513156, -437.49702253,\n",
       "       -370.63158087, -323.84435721, -228.94921346, -196.67406078,\n",
       "       -313.76112485, -266.08430375, -385.63056908, -383.58738236,\n",
       "       -243.2097015 , -304.34366172, -379.90977985, -291.15529414,\n",
       "       -453.25301191, -410.05467844, -400.55013924, -307.61678452,\n",
       "       -396.94918286, -241.62031924, -219.09035855, -258.45303867,\n",
       "       -405.19600627, -394.30953693, -528.21173126, -342.70015837,\n",
       "       -336.04491024, -388.69766654, -270.87126652, -322.66329167,\n",
       "       -266.81509416, -452.36759809, -299.85035674, -236.93156306,\n",
       "       -185.06562776, -203.87862585, -303.16067763, -475.58392218,\n",
       "       -459.95004513, -434.80950806, -366.98876694, -276.05895259,\n",
       "       -313.79276917, -491.79330572, -245.31659661, -271.71171522,\n",
       "       -198.8200124 , -315.62722901, -459.07188445, -287.70647113,\n",
       "       -305.14374359, -279.06693011, -351.53142641, -230.44796002,\n",
       "       -513.62044866, -324.90049303, -329.34344155, -252.96635672,\n",
       "       -334.48265491, -197.2753714 , -320.7314684 , -440.9613066 ,\n",
       "       -228.48037367, -322.48029305, -200.70769171,  -84.1269649 ,\n",
       "       -306.50211653, -339.57494648, -191.74910244, -250.77557741,\n",
       "       -311.6093237 , -268.38707799, -317.69334459, -401.29490705,\n",
       "       -265.39068458, -212.48556473, -265.56109201, -420.64498968,\n",
       "       -247.8757475 , -396.74825962, -256.92722167, -442.42291031,\n",
       "       -318.88741531, -294.09927632, -330.68655447, -358.51718347,\n",
       "       -378.9951277 , -314.09784177, -463.67936314, -259.0107076 ,\n",
       "       -211.91861957, -306.28785306, -452.066939  , -257.5202502 ,\n",
       "       -285.84581997, -134.81497016, -357.69981422, -307.61748999,\n",
       "       -277.39179645, -198.55750991, -398.89807434, -294.67313277,\n",
       "       -334.9409683 , -205.86306336, -381.1029982 , -142.80400613,\n",
       "       -236.84667318, -322.56108764, -210.16376164, -299.29475044,\n",
       "       -354.18900992, -313.51993062, -426.82120648, -280.03124759,\n",
       "       -253.71287223, -269.09581129, -218.43321085, -335.85330522,\n",
       "       -271.86395369, -375.15481882, -242.35002284, -183.38320465,\n",
       "       -412.77486485, -369.53100204, -411.70151807, -359.58508917,\n",
       "       -175.70770575, -469.39426742, -226.08159939, -245.46633955,\n",
       "       -345.67051089, -347.24083465, -298.54199552, -260.67994601,\n",
       "       -168.14035025, -245.41806254, -169.72445168, -510.25649794,\n",
       "       -420.84588047, -525.14286095, -402.52552433, -314.5990054 ,\n",
       "       -320.45999612, -284.8623389 , -355.88072933, -207.64580787,\n",
       "       -295.83993006, -361.82477173, -300.87035559, -354.37995304,\n",
       "       -278.59941539, -234.36210698, -389.24417133, -302.17371939,\n",
       "       -404.47679296, -293.29940352, -373.10206687, -263.16048894,\n",
       "       -267.14819113, -261.88559244, -272.52433281, -388.37435217,\n",
       "       -222.24471796, -323.63916087, -379.06091669, -263.11876599,\n",
       "       -288.64024991, -274.50401236, -307.69383259, -288.66707499,\n",
       "       -276.6035649 , -360.87975263, -311.06564155, -210.04039867,\n",
       "       -287.49787729, -365.60189902, -328.6651149 , -178.33870163,\n",
       "       -334.87412518, -368.78887656, -221.47962902, -224.34008247,\n",
       "       -456.35527832, -342.05673175, -219.38614866, -406.83890637,\n",
       "       -340.50910285, -195.3798434 , -205.26126506, -349.40897292,\n",
       "       -276.33493398, -412.8432747 , -251.85185874, -482.0126907 ,\n",
       "       -229.80089162, -345.85501288, -305.91896019, -299.70067133,\n",
       "       -373.14869155, -295.07131301, -321.8326679 , -437.52052729,\n",
       "       -314.95795459, -380.5550653 , -343.72311542, -336.1000925 ,\n",
       "       -266.72328752, -239.37655633, -365.47315836, -130.7586201 ,\n",
       "       -302.34700003, -289.11468524, -302.93205453, -277.23803154,\n",
       "       -446.54245   , -252.00078459, -228.01935988, -382.0124468 ,\n",
       "       -311.02304646, -340.05646269, -373.32057649, -168.47418969,\n",
       "       -303.58591612, -483.67298014, -339.60151989, -279.66959821,\n",
       "       -227.40004363, -386.52421077, -374.59879779, -210.99923861,\n",
       "       -311.17821191, -305.9620056 , -338.0635872 , -344.97103131,\n",
       "       -187.02893832, -370.18442302, -449.9025083 , -209.87853902,\n",
       "       -242.49124111, -290.6213404 , -357.68675793, -280.42728115,\n",
       "       -215.17777772, -227.43254048, -195.31771963, -330.36943367,\n",
       "       -286.52054573, -446.99833761, -314.95161047, -175.91489641,\n",
       "       -235.92552211, -289.26317546, -233.11934017, -407.77978039,\n",
       "       -207.59995929, -275.92771165, -294.23466236, -310.58081778,\n",
       "       -294.65729186, -282.55441172, -281.78802127, -342.16448936,\n",
       "       -264.63791776, -249.58304482, -237.49936695, -287.98567488,\n",
       "       -445.02088966, -259.36579117, -287.94754957, -373.07607212,\n",
       "       -247.69587342, -274.63226423, -259.68602956, -469.48742633,\n",
       "       -370.55448458, -305.16478842, -267.14531523, -207.74940383,\n",
       "       -348.13824577, -266.52322875, -452.31196886, -263.45030921,\n",
       "       -342.55242875, -293.77423908, -394.43902816, -343.16677258,\n",
       "       -331.11349756, -201.35437166, -267.99398745, -361.89961282,\n",
       "       -457.25854409, -270.96910964, -176.46463117, -294.29293897,\n",
       "       -291.10215123, -205.60528699, -259.64384696, -311.62289923,\n",
       "       -336.0685924 , -597.33329164, -319.91885153, -240.42895624,\n",
       "       -296.2715823 , -283.04755284, -371.42805387, -330.69798478,\n",
       "       -342.38462102, -397.56782674, -207.93709268, -425.9332664 ,\n",
       "       -272.80449608, -256.64181527, -247.34832654, -502.68546173,\n",
       "       -210.73745893, -284.14308707, -327.314022  , -434.76430684,\n",
       "       -525.41447719, -228.68080357, -259.00426972, -357.77743048,\n",
       "       -300.91570853, -270.80693772, -359.21166843, -268.31741156,\n",
       "       -212.35494769, -357.50811036, -311.93541193, -327.98397702,\n",
       "       -226.00825912, -490.56301893, -326.97320683, -357.16771699,\n",
       "       -245.67480207, -267.55969671, -321.71856049, -382.37011571,\n",
       "       -275.38326085, -332.89241836, -547.31998265, -356.92227114,\n",
       "       -208.00085384, -366.79643958, -253.02498603, -337.62885737,\n",
       "       -275.78057892, -469.53341025, -362.38272614, -238.47480047,\n",
       "       -351.70193653, -145.31373816, -247.61090449, -210.31961713,\n",
       "       -255.41179313, -335.24949674, -292.9434997 , -319.24418195,\n",
       "       -576.96283841, -221.97784528, -223.25662405, -238.38883778,\n",
       "       -311.85315065, -263.74792271, -271.58005163, -314.51814617,\n",
       "       -401.33185349, -370.81641088, -264.11088472, -318.87101455,\n",
       "       -226.13204983, -398.42486002, -221.71043035, -281.32226168,\n",
       "       -298.88550379, -389.54695083, -337.57108745, -259.79725401,\n",
       "       -280.27734025, -255.84793325, -409.3378401 , -357.17162747,\n",
       "       -257.55134993, -208.7888972 , -520.51625073, -129.53087439,\n",
       "       -255.14430942, -280.01347133, -463.02188186, -321.46526479,\n",
       "       -208.33289843, -378.25116737, -372.90272513, -353.18971684,\n",
       "       -316.02993053, -342.98828007, -382.26905249, -465.29349735,\n",
       "       -333.60172473, -344.12997395, -434.91702393, -318.9024227 ,\n",
       "       -190.26877522, -376.22155974, -419.82371058, -303.75088945,\n",
       "       -225.4846125 , -323.35504515, -330.76827774, -228.10720002,\n",
       "       -334.10898767, -347.97953168, -243.92650262, -336.3525519 ,\n",
       "       -394.7456959 , -343.54076324, -389.68122981, -243.18898897,\n",
       "       -245.06112348, -471.14361804, -177.15546965, -165.59993425,\n",
       "       -450.53816943, -338.07028028, -243.76913497, -377.54085731,\n",
       "       -411.59588385, -281.86895683, -382.403917  , -228.15063608,\n",
       "       -346.22219305, -245.39253115, -293.74618864, -358.62557007,\n",
       "       -183.7607699 , -298.18246731, -300.71653827, -230.69870971,\n",
       "       -302.2990748 , -292.71753622, -361.58643651, -437.79133642])"
      ]
     },
     "execution_count": 31,
     "metadata": {},
     "output_type": "execute_result"
    }
   ],
   "source": [
    "min_vals_u_vec[:int(T/delta_t)]"
   ]
  },
  {
   "cell_type": "code",
   "execution_count": 29,
   "metadata": {},
   "outputs": [
    {
     "data": {
      "text/plain": [
       "[<matplotlib.lines.Line2D at 0x1d216659c90>]"
      ]
     },
     "execution_count": 29,
     "metadata": {},
     "output_type": "execute_result"
    },
    {
     "data": {
      "image/png": "[encoded data removed]",
      "text/plain": [
       "<Figure size 432x288 with 1 Axes>"
      ]
     },
     "metadata": {},
     "output_type": "display_data"
    }
   ],
   "source": [
    "plt.plot(ruin_probability[(1,)])"
   ]
  },
  {
   "cell_type": "code",
   "execution_count": 25,
   "metadata": {},
   "outputs": [
    {
     "data": {
      "text/plain": [
       "array([[0. , 0. , 0. , ..., 0. , 0. , 0. ],\n",
       "       [0.1, 0.1, 0.1, ..., 0.1, 0.1, 0.1],\n",
       "       [0.2, 0.2, 0.2, ..., 0.2, 0.2, 0.2],\n",
       "       ...,\n",
       "       [1. , 1. , 1. , ..., 1. , 1. , 1. ],\n",
       "       [1. , 1. , 1. , ..., 1. , 1. , 1. ],\n",
       "       [1. , 1. , 1. , ..., 1. , 1. , 1. ]])"
      ]
     },
     "execution_count": 25,
     "metadata": {},
     "output_type": "execute_result"
    }
   ],
   "source": [
    "ruin_probability"
   ]
  },
  {
   "cell_type": "code",
   "execution_count": null,
   "metadata": {},
   "outputs": [],
   "source": [
    "class PoissonProcess():\n",
    "    \n",
    "    def __init__(self, t, T, lbd):\n",
    "        \n",
    "        self.t = t\n",
    "        self.T = T\n",
    "        self.N = int(T/t)\n",
    "        self.lbd = lbd\n",
    "        poisson_rvs = ss.poisson.rvs(lbd*self.t, size=self.N)\n",
    "        self.increments = poisson_rvs\n",
    "        self.trajectory = np.concatenate([np.zeros(1), np.cumsum(poisson_rvs)])\n",
    "        \n",
    "    def plot(self):\n",
    "        \n",
    "        plt.plot(np.arange(0, self.T+self.t, step=self.t), self.trajectory)\n",
    "        plt.ylabel(\"$N_t$\")\n",
    "        plt.xlabel(\"t\")\n",
    "        plt.title(f'Poisson process with $\\delta t = {self.t}$, $T = {self.T}$ and $\\lambda = {self.lbd}$')\n",
    "        plt.show()\n",
    "        \n",
    "    def EN(self):\n",
    "        return np.mean(self.trajectory)\n",
    "    \n",
    "    def VarN(self):\n",
    "        return np.var(self.trajectory)\n",
    "    \n",
    "    def ENt(self):\n",
    "        return [np.mean(self.trajectory[:i]) for i in np.arange(1, self.N + 1)]\n",
    "    \n",
    "    def VarNt(self):\n",
    "        return [np.var(self.trajectory[:i]) for i in np.arange(1, self.N + 1)]\n",
    "    \n",
    "\n",
    "def generate_pareto(lbd, alpha, num):\n",
    "    uni_rand = ss.uniform.rvs(size=num)\n",
    "    return lbd/((1-uni_rand)**(1/alpha)) - lbd\n",
    "        \n",
    "class CompoundPoisson():\n",
    "    \n",
    "    def __init__(self, poisson_process, distribution, parameters):\n",
    "        \n",
    "        self.t = poisson_process.t\n",
    "        self.T = poisson_process.T\n",
    "        self.N = poisson_process.N\n",
    "        self.poisson_trajectory = poisson_process.trajectory\n",
    "        \n",
    "        if distribution == \"exp\":\n",
    "            self.X = ss.expon.rvs(scale=parameters[\"lmbd\"], size=int(self.poisson_trajectory[-1]))\n",
    "            self.exp_X = 1/parameters[\"lmbd\"]\n",
    "        elif distribution == \"pareto\":\n",
    "            self.X = ss.lomax.rvs(c=parameters[\"alpha\"], scale=parameters[\"lmbd\"], num=int(self.poisson_trajectory[-1]))\n",
    "            self.exp_X = parameters[\"lmbd\"]/(parameters[\"alpha\"] - 1)\n",
    "        elif distribution == \"uniform\":\n",
    "            self.X = ss.uniform.rvs(parameters[\"a\"], parameters[\"b\"], size=int(self.poisson_trajectory[-1]))\n",
    "            self.exp_X = (parameters[\"a\"] + parameters[\"b\"])/2\n",
    "        elif distribution == \"mixed\":\n",
    "            choices = np.random.choice([1, 2], size=int(self.poisson_trajectory[-1]), p=[parameters[\"p\"], 1 - parameters[\"p\"]])\n",
    "            self.X = np.where(choices == 1, ss.expon.rvs(scale=parameters[\"lmbd_1\"], size=int(self.poisson_trajectory[-1])), ss.expon.rvs(scale=parameters[\"lmbd_2\"], size=int(self.poisson_trajectory[-1])))\n",
    "            self.exp_X = parameters[\"p\"]/parameters[\"lmbd_1\"] + parameters[\"p\"]/parameters[\"lmbd_2\"]\n",
    "        \n",
    "        self.trajectory = [np.sum(self.X[:int(n)]) for n in self.poisson_trajectory]\n",
    "        self.exp_N = poisson_process.lbd\n",
    "        \n",
    "    def plot(self):\n",
    "        \n",
    "        plt.plot(np.arange(0, self.T + self.t, step=self.t), self.trajectory)    \n",
    "\n",
    "#theta = 0.1        \n",
    "class RuinProcess():\n",
    "    \n",
    "    def __init__(self, X_distribution, X_parameters, theta=0.1, poisson_lbd=10, delta_t=0.01, T=10):\n",
    "        \n",
    "        self.X_distribution = X_distribution\n",
    "        self.X_parameters = X_parameters\n",
    "        \n",
    "        self.poisson_lbd = poisson_lbd\n",
    "        self.delta_t = delta_t\n",
    "        self.T = T\n",
    "        \n",
    "        self.theta = theta\n",
    "        \n",
    "        \n",
    "    def simulate(self, u0=0):\n",
    "        \n",
    "        compound_poisson = CompoundPoisson(PoissonProcess(self.delta_t, self.T, self.poisson_lbd), self.X_distribution, self.X_parameters)\n",
    "        \n",
    "        self.ruin_process_time_series = u0 + (1+ self.theta)*compound_poisson.exp_X*self.poisson_lbd*np.arange(0, self.T + self.delta_t, step=self.delta_t) - compound_poisson.trajectory\n",
    "     \n",
    "        \n",
    "    def MC_simulate(self, steps, T_arr):\n",
    "        \n",
    "        self.mcs = steps\n",
    "                \n",
    "        for T in T_arr:\n",
    "            if T > self.T:\n",
    "                raise ValueError(f'{T} is bigger than {self.T}')\n",
    "                \n",
    "        min_vals_vec = np.zeros((len(T_arr), steps))\n",
    "        \n",
    "        \n",
    "        for mcs in np.arange(steps):\n",
    "            self.simulate(u0=0)\n",
    "            for i, T in enumerate(T_arr):\n",
    "                min_vals_vec[(i, mcs)] = np.min(self.ruin_process_time_series[:int(T/self.delta_t)])\n",
    "                \n",
    "        self.T_arr = T_arr\n",
    "        self.min_vals_vec = min_vals_vec\n",
    "        \n",
    "     \n",
    "    def MC_ruin_probability(self, u_vec = np.arange(0, 100), plot=True):\n",
    "        \n",
    "        self.ruin_probability_MC = {}\n",
    "        self.u_vec = u_vec\n",
    "        \n",
    "        for i, T in enumerate(self.T_arr):\n",
    "            self.ruin_probability_MC[T] = np.zeros(len(u_vec))\n",
    "            for j, u in enumerate(u_vec):\n",
    "                min_vals_u_vec = self.min_vals_vec[i] + u\n",
    "                self.ruin_probability_MC[T][j] = np.sum(min_vals_u_vec < 0)/self.mcs\n",
    "        \n",
    "        if plot:  \n",
    "            for T in self.T_arr:      \n",
    "                plt.plot(u_vec, self.ruin_probability_MC[T], label=f'T={T}')\n",
    "            plt.legend()\n",
    "            plt.xlabel(\"$u_0$\")\n",
    "            plt.ylabel(\"Probability of ruin\")\n",
    "                      \n",
    "    def PC_simulate(self, steps):\n",
    "        \n",
    "        self.PC_steps = steps\n",
    "        \n",
    "        N_vec = np.zeros(steps)\n",
    "        \n",
    "        for step in np.arange(steps):\n",
    "            num_of_aggregate_losses = ss.geom.rvs(p=(self.theta/(1+self.theta))) - 1\n",
    "            \n",
    "            if self.X_distribution == \"pareto\":\n",
    "                N_vec[step] = np.sum(ss.lomax.rvs(scale=self.X_parameters[\"lmbd\"], c=self.X_parameters[\"alpha\"]-1, num=int(num_of_aggregate_losses)))\n",
    "            \n",
    "            elif self.X_distribution == \"exp\":\n",
    "                N_vec[step] = np.sum(ss.expon.rvs(scale=self.X_parameters[\"lmbd\"], size=int(num_of_aggregate_losses)))\n",
    "                \n",
    "            elif self.X_distribution == \"uniform\":\n",
    "                N_vec[step] = np.sum(ss.triang.rvs(self.X_parameters[\"a\"], loc=0, scale=self.X_parameters[\"b\"], size=int(num_of_aggregate_losses)))\n",
    "                \n",
    "            elif self.X_distribution == \"mixed\":\n",
    "                old_p = self.X_parameters[\"p\"]\n",
    "                lmbd_1 = self.X_parameters[\"lmbd_1\"]\n",
    "                lmbd_2 = self.X_parameters[\"lmbd_2\"]\n",
    "                \n",
    "                new_p = (old_p*lmbd_2)/(old_p*lmbd_2 + (1-old_p)*lmbd_1)\n",
    "                \n",
    "                choices = np.random.choice([1, 2], size=int(num_of_aggregate_losses), p=[new_p, 1 - new_p])\n",
    "                N_vec[step] = np.sum(np.where(choices == 1, ss.expon.rvs(scale=lmbd_1, size=int(num_of_aggregate_losses)), ss.expon.rvs(scale=lmbd_2, size=int(num_of_aggregate_losses))))\n",
    "                \n",
    "        \n",
    "        self.N_vec = N_vec\n",
    "        \n",
    "    def PC_ruin_probability(self, u_vec = np.arange(0, 100), plot=True):\n",
    "        \n",
    "        self.ruin_probability_PC = np.zeros(len(u_vec))\n",
    "        self.u_vec = u_vec\n",
    "        \n",
    "        for j, u in enumerate(u_vec):\n",
    "            self.ruin_probability_PC[j] = np.sum(self.N_vec > u)/self.PC_steps\n",
    "        \n",
    "           \n",
    "        plt.plot(u_vec, self.ruin_probability_PC)\n",
    "        plt.legend()\n",
    "        plt.xlabel(\"$u_0$\")\n",
    "        plt.ylabel(\"Probability of ruin\")\n",
    "        \n",
    "        \n",
    "    def Vylder_simulate(self):\n",
    "        \n",
    "        if self.X_distribution == \"exp\":\n",
    "            p1 = ss.expon.moment(1, scale=self.X_parameters[\"lmbd\"])\n",
    "            p2 = ss.expon.moment(2, scale=self.X_parameters[\"lmbd\"])\n",
    "            p3 = ss.expon.moment(3, scale=self.X_parameters[\"lmbd\"])\n",
    "            \n",
    "        elif self.X_distribution == \"uniform\":\n",
    "            p1 = ss.uniform.moment(1, loc=self.X_parameters[\"a\"], scale=self.X_parameters[\"b\"])\n",
    "            p2 = ss.uniform.moment(2, loc=self.X_parameters[\"a\"], scale=self.X_parameters[\"b\"])\n",
    "            p3 = ss.uniform.moment(3, loc=self.X_parameters[\"a\"], scale=self.X_parameters[\"b\"]) \n",
    "            \n",
    "        elif self.X_distribution == \"mixed\":\n",
    "            p1 = self.X_parameters[\"p\"]*ss.expon.moment(1, scale=\"lmbd_1\") + (1-self.X_parameters[\"p\"])*ss.expon.moment(1, scale=\"lmbd_2\")\n",
    "            p2 = self.X_parameters[\"p\"]*ss.expon.moment(2, scale=\"lmbd_1\") + (1-self.X_parameters[\"p\"])*ss.expon.moment(2, scale=\"lmbd_2\")\n",
    "            p3 = self.X_parameters[\"p\"]*ss.expon.moment(3, scale=\"lmbd_1\") + (1-self.X_parameters[\"p\"])*ss.expon.moment(3, scale=\"lmbd_2\")\n",
    "            \n",
    "            #p1 = self.X_parameters[\"p\"]*self.X_parameters[\"lmbd_1\"] + (1-self.X_parameters[\"p\"])/self.X_parameters[\"lmbd_2\"]\n",
    "            #p2 = 2*self.X_parameters[\"p\"]/self.X_parameters[\"lmbd_1\"]**2 + 2*(1-self.X_parameters[\"p\"])/self.X_parameters[\"lmbd_2\"]**2\n",
    "            #p3 = 6*self.X_parameters[\"p\"]/self.X_parameters[\"lmbd_1\"]**3 + 6*(1-self.X_parameters[\"p\"])/self.X_parameters[\"lmbd_2\"]**3\n",
    "        \n",
    "        elif self.X_distribution == \"pareto\":\n",
    "            p1 = ss.lomax.moment(1, scale=self.X_parameters[\"lmbd\"], c=self.X_parameters[\"alpha\"]-1)\n",
    "            p2 = ss.lomax.moment(1, scale=self.X_parameters[\"lmbd\"], c=self.X_parameters[\"alpha\"]-1)\n",
    "            p3 = ss.lomax.moment(1, scale=self.X_parameters[\"lmbd\"], c=self.X_parameters[\"alpha\"]-1)\n",
    "            \n",
    "            \n",
    "        self.lmbd_de_Vylder = 3*p2/p3\n",
    "        self.theta_de_Vylder = ((2*p1*p3)/(3*p2**2))*self.theta\n",
    "        \n",
    "    def Vylder_ruin_probability(self, u_vec = np.arange(0, 100), plot=True):\n",
    "        \n",
    "        self.ruin_probability_V = (1/(1+self.theta_de_Vylder))*np.exp(-(self.lmbd_de_Vylder*self.theta_de_Vylder*u_vec)/(1 + self.theta_de_Vylder))\n",
    "        \n",
    "        plt.plot(u_vec, self.ruin_probability_V)\n",
    "        plt.xlabel(\"$u_0$\")\n",
    "        plt.ylabel(\"Probability of ruin\")\n",
    "        \n",
    "    \n",
    "    \n",
    "def MC_simulate(steps, T_arr):\n",
    "    pass\n",
    "        \n",
    "\n",
    "\n",
    "            \n",
    "        \n",
    "        \n",
    "              \n",
    "    "
   ]
  }
 ],
 "metadata": {
  "kernelspec": {
   "display_name": "Python 3",
   "language": "python",
   "name": "python3"
  },
  "language_info": {
   "codemirror_mode": {
    "name": "ipython",
    "version": 3
   },
   "file_extension": ".py",
   "mimetype": "text/x-python",
   "name": "python",
   "nbconvert_exporter": "python",
   "pygments_lexer": "ipython3",
   "version": "3.10.0"
  }
 },
 "nbformat": 4,
 "nbformat_minor": 2
}
