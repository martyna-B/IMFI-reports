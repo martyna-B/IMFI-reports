{
 "cells": [
  {
   "cell_type": "code",
   "execution_count": 1,
   "metadata": {},
   "outputs": [
    {
     "name": "stdout",
     "output_type": "stream",
     "text": [
      "Expected time to ruin is 30.039122.\n"
     ]
    }
   ],
   "source": [
    "import numpy as np\n",
    "\n",
    "def X(p0, p1, p2, p3):\n",
    "    return np.random.choice([-1, 0, 1, 2, 3], p=[1-p0-p1-p2-p3, p0, p1, p2, p3])\n",
    "\n",
    "def ruin_time(u, X, *args):\n",
    "    n = 0\n",
    "    U = u\n",
    "    while U >= 0:\n",
    "        U += X(*args)\n",
    "        n += 1\n",
    "    return n\n",
    "\n",
    "u = 9/2\n",
    "p0 = p1 = p2 = p3 = 1/12\n",
    "num_simulations = 10**6\n",
    "average_ruin_time = np.mean([ruin_time(u, X, p0, p1, p2, p3) for _ in range(num_simulations)])\n",
    "\n",
    "print(f\"Expected time to ruin is {average_ruin_time}.\")"
   ]
  }
 ],
 "metadata": {
  "kernelspec": {
   "display_name": "base",
   "language": "python",
   "name": "python3"
  },
  "language_info": {
   "codemirror_mode": {
    "name": "ipython",
    "version": 3
   },
   "file_extension": ".py",
   "mimetype": "text/x-python",
   "name": "python",
   "nbconvert_exporter": "python",
   "pygments_lexer": "ipython3",
   "version": "3.11.5"
  }
 },
 "nbformat": 4,
 "nbformat_minor": 2
}
